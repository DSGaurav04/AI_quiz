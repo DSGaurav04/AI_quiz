{
 "cells": [
  {
   "cell_type": "code",
   "execution_count": null,
   "id": "cf65c008",
   "metadata": {},
   "outputs": [],
   "source": [
    "from flask import Flask, render_template, request, jsonify\n",
    "import quiz_code\n",
    "\n",
    "app = Flask(__name__)\n",
    "\n",
    "@app.route(\"/\")\n",
    "def index():\n",
    "    return render_template(\"index.html\")\n",
    "\n",
    "@app.route(\"/check_answer\", methods=[\"POST\"])\n",
    "def check_answer():\n",
    "    question = request.form[\"question\"]\n",
    "    answer = request.form[\"answer\"]\n",
    "\n",
    "    correct_answer = quiz_code.check_answer(question, answer)\n",
    "\n",
    "    return jsonify({\"correct_answer\": correct_answer})\n",
    "\n",
    "if __name__ == \"__main__\":\n",
    "    app.run(debug=True)\n"
   ]
  }
 ],
 "metadata": {
  "kernelspec": {
   "display_name": "Python 3 (ipykernel)",
   "language": "python",
   "name": "python3"
  },
  "language_info": {
   "codemirror_mode": {
    "name": "ipython",
    "version": 3
   },
   "file_extension": ".py",
   "mimetype": "text/x-python",
   "name": "python",
   "nbconvert_exporter": "python",
   "pygments_lexer": "ipython3",
   "version": "3.9.13"
  }
 },
 "nbformat": 4,
 "nbformat_minor": 5
}
