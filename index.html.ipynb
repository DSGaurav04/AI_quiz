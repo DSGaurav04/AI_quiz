{
 "cells": [
  {
   "cell_type": "code",
   "execution_count": null,
   "id": "1abe05b2",
   "metadata": {},
   "outputs": [],
   "source": [
    "<!DOCTYPE html>\n",
    "<html>\n",
    "<head>\n",
    "    <title>Quiz</title>\n",
    "</head>\n",
    "<body>\n",
    "    <h1>Quiz</h1>\n",
    "    <form action=\"/check_answer\" method=\"POST\">\n",
    "        <question>What is machine learning?</question>\n",
    "        <answer>\n",
    "            <input type=\"radio\" name=\"answer\" value=\"Machine learning is a field of computer science that gives computers the ability to learn without being explicitly programmed.\"> Machine learning is a field of computer science that gives computers the ability to learn without being explicitly programmed.\n",
    "            <input type=\"radio\" name=\"answer\" value=\"Machine learning is a type of artificial intelligence that allows computers to learn from data.\"> Machine learning is a type of artificial intelligence that allows computers to learn from data.\n",
    "            <input type=\"radio\" name=\"answer\" value=\"Machine learning is a type of data science that uses mathematical algorithms to solve problems.\"> Machine learning is a type of data science that uses mathematical algorithms to solve problems.\n",
    "            <input type=\"radio\" name=\"answer\" value=\"Machine learning is a type of software engineering that focuses on developing intelligent systems.\"> Machine learning is a type of software engineering that focuses on developing intelligent systems.\n",
    "        </answer>\n",
    "        <input type=\"submit\" value=\"Submit\">\n",
    "    </form>\n",
    "</body>\n",
    "</html>\n"
   ]
  }
 ],
 "metadata": {
  "kernelspec": {
   "display_name": "Python 3 (ipykernel)",
   "language": "python",
   "name": "python3"
  },
  "language_info": {
   "codemirror_mode": {
    "name": "ipython",
    "version": 3
   },
   "file_extension": ".py",
   "mimetype": "text/x-python",
   "name": "python",
   "nbconvert_exporter": "python",
   "pygments_lexer": "ipython3",
   "version": "3.9.13"
  }
 },
 "nbformat": 4,
 "nbformat_minor": 5
}
