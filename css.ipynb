{
 "cells": [
  {
   "cell_type": "code",
   "execution_count": null,
   "id": "d2cffa94",
   "metadata": {},
   "outputs": [],
   "source": [
    "body {\n",
    "  font-family: sans-serif;\n",
    "}\n",
    "\n",
    "h1 {\n",
    "  text-align: center;\n",
    "  font-size: 36px;\n",
    "}\n",
    "\n",
    "form {\n",
    "  margin: 0 auto;\n",
    "  width: 500px;\n",
    "}\n",
    "\n",
    "question {\n",
    "  font-size: 24px;\n",
    "  margin-bottom: 10px;\n",
    "}\n",
    "\n",
    "answer {\n",
    "  margin-bottom: 10px;\n",
    "}\n",
    "\n",
    "input[type=\"radio\"] {\n",
    "  margin-right: 10px;\n",
    "}\n",
    "\n",
    "input[type=\"submit\"] {\n",
    "  margin-top: 10px;\n",
    "  width: 100%;\n",
    "}\n"
   ]
  }
 ],
 "metadata": {
  "kernelspec": {
   "display_name": "Python 3 (ipykernel)",
   "language": "python",
   "name": "python3"
  },
  "language_info": {
   "codemirror_mode": {
    "name": "ipython",
    "version": 3
   },
   "file_extension": ".py",
   "mimetype": "text/x-python",
   "name": "python",
   "nbconvert_exporter": "python",
   "pygments_lexer": "ipython3",
   "version": "3.9.13"
  }
 },
 "nbformat": 4,
 "nbformat_minor": 5
}
