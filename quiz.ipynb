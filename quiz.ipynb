{
 "cells": [
  {
   "cell_type": "code",
   "execution_count": null,
   "id": "edfca5f1",
   "metadata": {},
   "outputs": [],
   "source": [
    "import random\n",
    "\n",
    "# Define the questions and answers\n",
    "questions = [\n",
    "  \"What is machine learning?\",\n",
    "  \"What are the different types of machine learning algorithms?\",\n",
    "  \"What is the difference between supervised and unsupervised learning?\",\n",
    "  \"What is a neural network?\",\n",
    "  \"What is a decision tree?\",\n",
    "]\n",
    "\n",
    "answers = [\n",
    "  \"Machine learning is a field of computer science that gives computers the ability to learn without being explicitly programmed.\",\n",
    "  \"The different types of machine learning algorithms include supervised learning, unsupervised learning, and reinforcement learning.\",\n",
    "  \"Supervised learning is a type of machine learning where the algorithm is trained on a set of labeled data. Unsupervised learning is a type of machine learning where the algorithm is trained on a set of unlabeled data.\",\n",
    "  \"A neural network is a type of machine learning algorithm that is inspired by the structure and function of the human brain.\",\n",
    "  \"A decision tree is a type of machine learning algorithm that is used to classify data.\",\n",
    "]\n",
    "\n",
    "# Shuffle the questions and answers\n",
    "random.shuffle(questions)\n",
    "random.shuffle(answers)\n",
    "\n",
    "# Create a quiz\n",
    "quiz = []\n",
    "for i in range(len(questions)):\n",
    "  quiz.append((questions[i], answers[i]))\n",
    "\n",
    "# Check the user's answer\n",
    "def check_answer(question, answer):\n",
    "    correct_answer = quiz[questions.index(question)][1]\n",
    "    return answer == correct_answer\n"
   ]
  }
 ],
 "metadata": {
  "kernelspec": {
   "display_name": "Python 3 (ipykernel)",
   "language": "python",
   "name": "python3"
  },
  "language_info": {
   "codemirror_mode": {
    "name": "ipython",
    "version": 3
   },
   "file_extension": ".py",
   "mimetype": "text/x-python",
   "name": "python",
   "nbconvert_exporter": "python",
   "pygments_lexer": "ipython3",
   "version": "3.9.13"
  }
 },
 "nbformat": 4,
 "nbformat_minor": 5
}
